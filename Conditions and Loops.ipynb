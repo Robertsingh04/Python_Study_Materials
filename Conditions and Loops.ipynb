{
 "cells": [
  {
   "cell_type": "markdown",
   "metadata": {},
   "source": [
    "# Control Flow\n",
    "\n",
    "A program’s control flow is the order in which the program’s code executes. The control flow of a Python program is regulated by conditional statements, loops, and function calls. This section covers the if statement and for and while loops; functions are covered in the next class.\n",
    "\n",
    "![](https://www.researchgate.net/profile/Kay_Smarsly/publication/322509045/figure/fig1/AS:583153716215809@1516046088625/Control-flow-of-elementary-control-structures.png)\n",
    "\n",
    "\n",
    "\n",
    "## Python Indentation\n",
    "In Python, the code blocks are defined by a set of common or consistent number of spaces. This is called Python Indentation.\n",
    "\n",
    "The block scope will end at the first un-indented line.\n",
    "\n",
    "The best practice is to use on Tab space."
   ]
  },
  {
   "cell_type": "markdown",
   "metadata": {},
   "source": [
    "##### Conditions \n",
    ">* IF\n",
    ">* IF else\n",
    ">* if elif else\n",
    "#### Loops\n",
    ">* While\n",
    ">* For \n",
    "#### Break\n",
    "#### Continue\n",
    "##### Comparision Operators\n",
    "- x == y\n",
    "- x!= y\n",
    "- x < y\n",
    "- x <= y\n",
    "- x > y\n",
    "- x >= y\n"
   ]
  },
  {
   "cell_type": "markdown",
   "metadata": {},
   "source": [
    "##### IF condition"
   ]
  },
  {
   "cell_type": "code",
   "execution_count": 1,
   "metadata": {},
   "outputs": [],
   "source": [
    "x=10\n",
    "y=20"
   ]
  },
  {
   "cell_type": "markdown",
   "metadata": {},
   "source": [
    "##### Condition is -- I need check whther x is greater than y \n"
   ]
  },
  {
   "cell_type": "markdown",
   "metadata": {},
   "source": [
    "##### syntax\n",
    "\n",
    ">* if (condition):\n",
    "    statement1\n",
    "    statement2\n"
   ]
  },
  {
   "cell_type": "code",
   "execution_count": 2,
   "metadata": {},
   "outputs": [],
   "source": [
    "if(x>y):\n",
    "    print(\"x is greater than y\")\n",
    "    print(\"Data science class\")"
   ]
  },
  {
   "cell_type": "code",
   "execution_count": 3,
   "metadata": {},
   "outputs": [
    {
     "name": "stdout",
     "output_type": "stream",
     "text": [
      "x is greater than y\n",
      "Data science class\n"
     ]
    }
   ],
   "source": [
    "if(x<y):\n",
    "    print(\"x is greater than y\")\n",
    "    print(\"Data science class\")"
   ]
  },
  {
   "cell_type": "code",
   "execution_count": 4,
   "metadata": {},
   "outputs": [],
   "source": [
    "if(x>y):\n",
    "    print(\"x is greater than y\")\n",
    "\n",
    "    print(\"Data science class\")\n"
   ]
  },
  {
   "cell_type": "code",
   "execution_count": 5,
   "metadata": {},
   "outputs": [],
   "source": [
    "if(x>y):\n",
    "    print(\"x is greater than y\")\n",
    "    print(\"Data science class\")     \n"
   ]
  },
  {
   "cell_type": "markdown",
   "metadata": {},
   "source": [
    "##### if else:"
   ]
  },
  {
   "cell_type": "markdown",
   "metadata": {},
   "source": [
    "\n",
    ">* if (condition):\n",
    "    * statement1\n",
    "    *  statement2\n",
    ">* else:\n",
    "    * Statement4"
   ]
  },
  {
   "cell_type": "code",
   "execution_count": 6,
   "metadata": {},
   "outputs": [
    {
     "name": "stdout",
     "output_type": "stream",
     "text": [
      "enetering into else block\n",
      "x is lessthan y\n"
     ]
    }
   ],
   "source": [
    "x=10\n",
    "y=20\n",
    "if(x>y):\n",
    "    print(\"x is greater than y\")\n",
    "else:\n",
    "    print(\"enetering into else block\")\n",
    "    print(\"x is lessthan y\")"
   ]
  },
  {
   "cell_type": "code",
   "execution_count": 7,
   "metadata": {},
   "outputs": [
    {
     "name": "stdout",
     "output_type": "stream",
     "text": [
      "x is greater than y\n"
     ]
    }
   ],
   "source": [
    "x=100\n",
    "y=20\n",
    "if(x>y):\n",
    "    print(\"x is greater than y\")\n",
    "else:\n",
    "    print(\"enetering into else block\")\n",
    "    print(\"x is lessthan y\")\n"
   ]
  },
  {
   "cell_type": "code",
   "execution_count": 8,
   "metadata": {},
   "outputs": [
    {
     "name": "stdout",
     "output_type": "stream",
     "text": [
      "x is greater than y\n",
      "outside if\n"
     ]
    }
   ],
   "source": [
    "x=100\n",
    "y=20\n",
    "if(x>y):\n",
    "    print(\"x is greater than y\")\n",
    "else:\n",
    "    print(\"enetering into else block\")\n",
    "    print(\"x is lessthan y\")\n",
    "print(\"outside if\")"
   ]
  },
  {
   "cell_type": "code",
   "execution_count": 11,
   "metadata": {},
   "outputs": [
    {
     "name": "stdout",
     "output_type": "stream",
     "text": [
      "x is greater than y\n"
     ]
    }
   ],
   "source": [
    "x=100\n",
    "y=20\n",
    "if(x>y):\n",
    "    print(\"x is greater than y\")\n",
    "else:\n",
    "    print(\"enetering into else block\")\n",
    "    print(\"x is lessthan y\")\n",
    "    print(\"outside if\")"
   ]
  },
  {
   "cell_type": "markdown",
   "metadata": {},
   "source": [
    "##### if elif else\n",
    "\n",
    ">* if (condition):\n",
    "    * statement1\n",
    "    * statement2\n",
    "    \n",
    ">*elif (condition):\n",
    "    * statement1\n",
    "    * statement2\n",
    "    \n",
    ">*elif (condition):\n",
    "    * statement1\n",
    "    * statement2\n",
    ">*elif (condition):\n",
    "    * statement1\n",
    "    * statement2\n",
    "    \n",
    ">* else:\n",
    "    * Statement\n",
    "\n"
   ]
  },
  {
   "cell_type": "markdown",
   "metadata": {},
   "source": [
    "## Marks \n",
    "marks=?\n",
    ">=90 --- distinction\n",
    "\n",
    ">80-90 --  Grade A\n",
    "\n",
    ">70-80     Grade B\n",
    "\n",
    ">60-70    Grade c\n",
    "\n",
    "<60   - Fail"
   ]
  },
  {
   "cell_type": "code",
   "execution_count": 13,
   "metadata": {},
   "outputs": [],
   "source": [
    "marks=50"
   ]
  },
  {
   "cell_type": "code",
   "execution_count": 14,
   "metadata": {},
   "outputs": [
    {
     "name": "stdout",
     "output_type": "stream",
     "text": [
      "Fail\n"
     ]
    }
   ],
   "source": [
    "if marks>=90:\n",
    "    print(\"Distinction\")\n",
    "elif marks>80:\n",
    "    print(\"Grade A\")\n",
    "elif marks>70:\n",
    "    print(\"Grade B\")\n",
    "elif marks>60:\n",
    "    print(\"Grade C\")\n",
    "else:\n",
    "    print(\"Fail\")\n",
    "    \n",
    "    "
   ]
  },
  {
   "cell_type": "code",
   "execution_count": 15,
   "metadata": {},
   "outputs": [],
   "source": [
    "x=100\n",
    "y=20"
   ]
  },
  {
   "cell_type": "code",
   "execution_count": 16,
   "metadata": {},
   "outputs": [
    {
     "name": "stdout",
     "output_type": "stream",
     "text": [
      "second if\n",
      "first if\n",
      "outside if\n"
     ]
    }
   ],
   "source": [
    "if(x>20):\n",
    "    if(y>10):\n",
    "        print(\"second if\")\n",
    "    print(\"first if\")\n",
    "print(\"outside if\")"
   ]
  },
  {
   "cell_type": "code",
   "execution_count": 17,
   "metadata": {},
   "outputs": [
    {
     "name": "stdout",
     "output_type": "stream",
     "text": [
      "first if\n",
      "outside if\n"
     ]
    }
   ],
   "source": [
    "if(x>20):\n",
    "    if(y>100):\n",
    "        print(\"second if\")\n",
    "    print(\"first if\")\n",
    "print(\"outside if\")"
   ]
  },
  {
   "cell_type": "markdown",
   "metadata": {},
   "source": [
    "##### Loops"
   ]
  },
  {
   "cell_type": "markdown",
   "metadata": {},
   "source": [
    " >* While Loop\n",
    ">* for Loop"
   ]
  },
  {
   "cell_type": "markdown",
   "metadata": {},
   "source": [
    "# The while Statement\n",
    "\n",
    "The while statement in Python supports repeated execution of a statement or block of statements that is controlled by a conditional expression. \n",
    "\n",
    "    count = 0\n",
    "    while x > 0:\n",
    "      x = x / 2            \n",
    "      count += 1\n",
    "  \n",
    "    \n",
    "First, expression, which is known as the loop condition, is evaluated. If the condition is false, the while statement ends. If the loop condition is satisfied, the statement or statements that comprise the loop body are executed. When the loop body finishes executing, the loop condition is evaluated again, to see if another iteration should be performed. This process continues until the loop condition is false, at which point the while statement ends.\n",
    "\n",
    "The loop body should contain code that eventually makes the loop condition false, or the loop will never end unless an exception is raised or the loop body executes a break statement. A loop that is in a function’s body also ends if a return statement executes in the loop body, as the whole function ends in this case."
   ]
  },
  {
   "cell_type": "markdown",
   "metadata": {},
   "source": [
    "syntax:\n",
    " >* while(condition):\n",
    "      * Statements\n",
    "    "
   ]
  },
  {
   "cell_type": "code",
   "execution_count": 18,
   "metadata": {},
   "outputs": [],
   "source": [
    "x=20\n",
    "y=10"
   ]
  },
  {
   "cell_type": "code",
   "execution_count": 19,
   "metadata": {
    "scrolled": false
   },
   "outputs": [
    {
     "data": {
      "text/plain": [
       "'while(x>y):\\n    print(\"x is greater than y \")\\n'"
      ]
     },
     "execution_count": 19,
     "metadata": {},
     "output_type": "execute_result"
    }
   ],
   "source": [
    "# Infinite Loop \n",
    "\"\"\"while(x>y):\n",
    "    print(\"x is greater than y \")\n",
    "\"\"\""
   ]
  },
  {
   "cell_type": "code",
   "execution_count": 20,
   "metadata": {},
   "outputs": [],
   "source": [
    "x=20\n",
    "y=10"
   ]
  },
  {
   "cell_type": "code",
   "execution_count": 21,
   "metadata": {
    "scrolled": false
   },
   "outputs": [
    {
     "name": "stdout",
     "output_type": "stream",
     "text": [
      "x is greater than y \n",
      "18\n",
      "x is greater than y \n",
      "16\n",
      "x is greater than y \n",
      "14\n",
      "x is greater than y \n",
      "12\n",
      "x is greater than y \n",
      "10\n"
     ]
    }
   ],
   "source": [
    "\n",
    "while(x>y):\n",
    "    print(\"x is greater than y \")\n",
    "    x=x-2\n",
    "    print(x)"
   ]
  },
  {
   "cell_type": "markdown",
   "metadata": {},
   "source": [
    "##### break "
   ]
  },
  {
   "cell_type": "code",
   "execution_count": 22,
   "metadata": {},
   "outputs": [
    {
     "name": "stdout",
     "output_type": "stream",
     "text": [
      "x is greater than y \n"
     ]
    }
   ],
   "source": [
    "x=20\n",
    "y=10\n",
    "while(x>y):\n",
    "    print(\"x is greater than y \")\n",
    "    break\n"
   ]
  },
  {
   "cell_type": "code",
   "execution_count": 23,
   "metadata": {},
   "outputs": [
    {
     "name": "stdout",
     "output_type": "stream",
     "text": [
      "x is greater than y \n",
      "before break\n"
     ]
    }
   ],
   "source": [
    "x=20\n",
    "y=10\n",
    "while(x>y):\n",
    "    print(\"x is greater than y \")\n",
    "    print(\"before break\")\n",
    "    break\n",
    "    print(\"after break\")\n"
   ]
  },
  {
   "cell_type": "markdown",
   "metadata": {},
   "source": [
    "##### continue "
   ]
  },
  {
   "cell_type": "code",
   "execution_count": 24,
   "metadata": {},
   "outputs": [
    {
     "name": "stdout",
     "output_type": "stream",
     "text": [
      "x is greater than y \n",
      "x is greater than y \n",
      "x is greater than y \n",
      "x is greater than y \n",
      "x is greater than y \n"
     ]
    }
   ],
   "source": [
    "x=20\n",
    "y=10\n",
    "while(x>y):\n",
    "    print(\"x is greater than y \")\n",
    "    x=x-2\n",
    "    continue\n",
    "    print(x)"
   ]
  },
  {
   "cell_type": "markdown",
   "metadata": {},
   "source": [
    "### Break:\n",
    "\n",
    "* Terminates the execution of current loop\n",
    "\n",
    "### Continue:\n",
    "\n",
    "* Returns the control to the beginning of the loop."
   ]
  },
  {
   "cell_type": "markdown",
   "metadata": {},
   "source": [
    "#### For Loop\n",
    "\n",
    "The for statement in Python supports repeated execution of a statement or block of statements that is controlled by an iterable expression.\n",
    "\n",
    "    for target in iterable:\n",
    "      statement(s)\n",
    "      \n",
    "Note that the in keyword is part of the syntax of the for statement and is functionally unrelated to the in operator used for membership testing.      \n",
    "\n",
    "iterable may be any Python expression suitable as an argument to built-in function iter, which returns an iterator object (explained in detail in the next section). target is normally an identifier that names the control variable of the loop; the for statement successively rebinds this variable to each item of the iterator, in order. The statement or statements that comprise the loop body execute once for each item in iterable (unless the loop ends because an exception is raised or a break or return statement is executed)."
   ]
  },
  {
   "cell_type": "markdown",
   "metadata": {},
   "source": [
    "##### syntax\n",
    ">* for i in variable:\n",
    "    * stmnts"
   ]
  },
  {
   "cell_type": "code",
   "execution_count": 25,
   "metadata": {},
   "outputs": [],
   "source": [
    "l=[1,2,3,4,5,6]"
   ]
  },
  {
   "cell_type": "code",
   "execution_count": 26,
   "metadata": {},
   "outputs": [
    {
     "data": {
      "text/plain": [
       "list"
      ]
     },
     "execution_count": 26,
     "metadata": {},
     "output_type": "execute_result"
    }
   ],
   "source": [
    "type(l)"
   ]
  },
  {
   "cell_type": "code",
   "execution_count": 27,
   "metadata": {
    "scrolled": true
   },
   "outputs": [
    {
     "name": "stdout",
     "output_type": "stream",
     "text": [
      "1\n",
      "2\n",
      "3\n",
      "4\n"
     ]
    }
   ],
   "source": [
    "print(l[0])\n",
    "print(l[1])\n",
    "print(l[2])\n",
    "print(l[3])"
   ]
  },
  {
   "cell_type": "code",
   "execution_count": 28,
   "metadata": {},
   "outputs": [
    {
     "name": "stdout",
     "output_type": "stream",
     "text": [
      "[1, 2, 3, 4, 5, 6]\n"
     ]
    }
   ],
   "source": [
    "print(l)"
   ]
  },
  {
   "cell_type": "code",
   "execution_count": 29,
   "metadata": {
    "scrolled": true
   },
   "outputs": [
    {
     "name": "stdout",
     "output_type": "stream",
     "text": [
      "1\n",
      "2\n",
      "3\n",
      "4\n",
      "5\n",
      "6\n"
     ]
    }
   ],
   "source": [
    "for  i in l:\n",
    "    print(i)"
   ]
  },
  {
   "cell_type": "code",
   "execution_count": 30,
   "metadata": {},
   "outputs": [
    {
     "data": {
      "text/plain": [
       "6"
      ]
     },
     "execution_count": 30,
     "metadata": {},
     "output_type": "execute_result"
    }
   ],
   "source": [
    "len(l)"
   ]
  },
  {
   "cell_type": "code",
   "execution_count": 31,
   "metadata": {},
   "outputs": [
    {
     "name": "stdout",
     "output_type": "stream",
     "text": [
      "1\n",
      "2\n",
      "3\n",
      "4\n",
      "5\n",
      "6\n"
     ]
    }
   ],
   "source": [
    "for i in range(0,len(l)):\n",
    "    print(l[i])"
   ]
  },
  {
   "cell_type": "markdown",
   "metadata": {},
   "source": [
    "## Difference between break and continue"
   ]
  },
  {
   "cell_type": "code",
   "execution_count": 32,
   "metadata": {
    "scrolled": true
   },
   "outputs": [
    {
     "name": "stdout",
     "output_type": "stream",
     "text": [
      "value of i is 1\n",
      "print of for loop\n",
      "secod print of for loop\n"
     ]
    }
   ],
   "source": [
    "for i in range(1,10):\n",
    "    print(\"value of i is\",i)\n",
    "    print(\"print of for loop\")\n",
    "    #continue\n",
    "    if (i>3):\n",
    "        print(\"print of  if block\")\n",
    "    print(\"secod print of for loop\")\n",
    "    break"
   ]
  },
  {
   "cell_type": "code",
   "execution_count": 33,
   "metadata": {},
   "outputs": [
    {
     "name": "stdout",
     "output_type": "stream",
     "text": [
      "value of i is 1\n",
      "print of for loop\n",
      "value of i is 2\n",
      "print of for loop\n",
      "value of i is 3\n",
      "print of for loop\n",
      "value of i is 4\n",
      "print of for loop\n",
      "value of i is 5\n",
      "print of for loop\n",
      "value of i is 6\n",
      "print of for loop\n",
      "value of i is 7\n",
      "print of for loop\n",
      "value of i is 8\n",
      "print of for loop\n",
      "value of i is 9\n",
      "print of for loop\n"
     ]
    }
   ],
   "source": [
    "for i in range(1,10):\n",
    "    print(\"value of i is\",i)\n",
    "    print(\"print of for loop\")\n",
    "    continue\n",
    "    if (i>3):\n",
    "        print(\"print of  if block\")\n",
    "    print(\"secod print of for loop\")\n",
    "    break"
   ]
  },
  {
   "cell_type": "markdown",
   "metadata": {},
   "source": [
    "##### range() function\n",
    "\n",
    "Looping over a sequence of integers is a common task, so Python provides built-in functions range and xrange to generate and return integer sequences. The simplest, most idiomatic way to loop n times in Python is:\n",
    "\n",
    "\n",
    "    for i in range(n):\n",
    "      statement(s)\n",
    "      \n",
    "range( x ) returns a list whose items are consecutive integers from 0 (included) up to x (excluded). range( x,y ) returns a list whose items are consecutive integers from x (included) up to y (excluded). The result is the empty list if x is greater than or equal to y. range( x,y,step ) returns a list of integers from x (included) up to y (excluded), such that the difference between each two adjacent items in the list is step.   "
   ]
  },
  {
   "cell_type": "code",
   "execution_count": 34,
   "metadata": {},
   "outputs": [
    {
     "data": {
      "text/plain": [
       "[10, 12, 14, 16, 18, 20, 22, 24, 26, 28]"
      ]
     },
     "execution_count": 34,
     "metadata": {},
     "output_type": "execute_result"
    }
   ],
   "source": [
    "list(range(10, 30, 2))"
   ]
  },
  {
   "cell_type": "code",
   "execution_count": 35,
   "metadata": {},
   "outputs": [
    {
     "data": {
      "text/plain": [
       "[30,\n",
       " 29,\n",
       " 28,\n",
       " 27,\n",
       " 26,\n",
       " 25,\n",
       " 24,\n",
       " 23,\n",
       " 22,\n",
       " 21,\n",
       " 20,\n",
       " 19,\n",
       " 18,\n",
       " 17,\n",
       " 16,\n",
       " 15,\n",
       " 14,\n",
       " 13,\n",
       " 12,\n",
       " 11]"
      ]
     },
     "execution_count": 35,
     "metadata": {},
     "output_type": "execute_result"
    }
   ],
   "source": [
    "list(range(30, 10, -1))"
   ]
  },
  {
   "cell_type": "code",
   "execution_count": 36,
   "metadata": {
    "scrolled": true
   },
   "outputs": [
    {
     "name": "stdout",
     "output_type": "stream",
     "text": [
      "0\n",
      "1\n",
      "2\n",
      "3\n",
      "4\n",
      "5\n",
      "6\n",
      "7\n",
      "8\n",
      "9\n"
     ]
    }
   ],
   "source": [
    "for i in range(10):\n",
    "    print (i)"
   ]
  },
  {
   "cell_type": "markdown",
   "metadata": {},
   "source": [
    "#### List Comprehensions\n",
    "\n",
    "A common use of a for loop is to inspect each item in a sequence and build a new list by appending the results of an expression computed on some or all of the items inspected. The expression form, called a list comprehension, lets you code this common idiom concisely and directly. Since a list comprehension is an expression (rather than a block of statements), you can use it directly wherever you need an expression (e.g., as an actual argument in a function call, in a return statement, or as a subexpression for some other expression)."
   ]
  },
  {
   "cell_type": "code",
   "execution_count": 37,
   "metadata": {},
   "outputs": [],
   "source": [
    "mylst = [10,20,30]"
   ]
  },
  {
   "cell_type": "code",
   "execution_count": 38,
   "metadata": {},
   "outputs": [],
   "source": [
    "l1=[]\n",
    "for l in mylst:\n",
    "    l1.append(l+1)"
   ]
  },
  {
   "cell_type": "code",
   "execution_count": 39,
   "metadata": {},
   "outputs": [
    {
     "name": "stdout",
     "output_type": "stream",
     "text": [
      "[11, 21, 31]\n"
     ]
    }
   ],
   "source": [
    "print(l1)"
   ]
  },
  {
   "cell_type": "code",
   "execution_count": 40,
   "metadata": {},
   "outputs": [
    {
     "data": {
      "text/plain": [
       "[11, 21, 31]"
      ]
     },
     "execution_count": 40,
     "metadata": {},
     "output_type": "execute_result"
    }
   ],
   "source": [
    "\n",
    "[x+1 for x in mylst]"
   ]
  },
  {
   "cell_type": "markdown",
   "metadata": {},
   "source": [
    "##### Comparision Operators\n",
    "- x == y\n",
    "- x!= y\n",
    "- x < y\n",
    "- x <= y\n",
    "- x > y\n",
    "- x >= y\n"
   ]
  },
  {
   "cell_type": "code",
   "execution_count": 41,
   "metadata": {},
   "outputs": [
    {
     "name": "stdout",
     "output_type": "stream",
     "text": [
      "Equals to False\n",
      "Not equals True\n",
      "Less than True\n",
      "Less than equal to  True\n",
      "Greater than False\n",
      "Greater than equal to False\n"
     ]
    }
   ],
   "source": [
    "x=10\n",
    "y=20\n",
    "print(\"Equals to\",x==y)\n",
    "print(\"Not equals\",x!=y)\n",
    "print(\"Less than\",x<y)\n",
    "print(\"Less than equal to \",x<=y)\n",
    "print(\"Greater than\",x>y)\n",
    "print(\"Greater than equal to\",x>=y)"
   ]
  },
  {
   "cell_type": "markdown",
   "metadata": {},
   "source": [
    "##### Boolean Operations\n",
    ">* and\n",
    ">* or\n",
    ">* not"
   ]
  },
  {
   "cell_type": "code",
   "execution_count": 42,
   "metadata": {},
   "outputs": [
    {
     "name": "stdout",
     "output_type": "stream",
     "text": [
      "welcome to the job\n"
     ]
    }
   ],
   "source": [
    "age=21\n",
    "marks=80\n",
    "# Both Conditions should be true \n",
    "if age >= 18 and marks > 50:\n",
    "    print (\"welcome to the job\")\n",
    "    \n",
    "if age >= 18 and marks > 150:\n",
    "    print (\"welcome to the job1\")"
   ]
  },
  {
   "cell_type": "code",
   "execution_count": 43,
   "metadata": {},
   "outputs": [
    {
     "name": "stdout",
     "output_type": "stream",
     "text": [
      "welcome to the job\n",
      "welcome to the job1\n"
     ]
    }
   ],
   "source": [
    "# Any one of the condition is true \n",
    "if age >= 18 or marks > 50:\n",
    "    print (\"welcome to the job\")\n",
    "    \n",
    "if age >= 18 or marks > 150:\n",
    "    print (\"welcome to the job1\")"
   ]
  },
  {
   "cell_type": "code",
   "execution_count": 44,
   "metadata": {},
   "outputs": [
    {
     "data": {
      "text/plain": [
       "False"
      ]
     },
     "execution_count": 44,
     "metadata": {},
     "output_type": "execute_result"
    }
   ],
   "source": [
    "not age > 18"
   ]
  },
  {
   "cell_type": "markdown",
   "metadata": {},
   "source": [
    "##### Formatting"
   ]
  },
  {
   "cell_type": "code",
   "execution_count": 45,
   "metadata": {},
   "outputs": [
    {
     "name": "stdout",
     "output_type": "stream",
     "text": [
      "My name is Suresh, and I am 26\n"
     ]
    }
   ],
   "source": [
    "age = 26\n",
    "txt = \"My name is Suresh, and I am \"+str(age)\n",
    "print (txt)"
   ]
  },
  {
   "cell_type": "code",
   "execution_count": 46,
   "metadata": {},
   "outputs": [
    {
     "name": "stdout",
     "output_type": "stream",
     "text": [
      "My name is Suresh, and I am 26\n"
     ]
    }
   ],
   "source": [
    "age = 26\n",
    "txt = \"My name is Suresh, and I am {}\"\n",
    "print (txt.format(age))"
   ]
  },
  {
   "cell_type": "code",
   "execution_count": 47,
   "metadata": {},
   "outputs": [
    {
     "name": "stdout",
     "output_type": "stream",
     "text": [
      "My name is Suresh, and I am 26 years old and I purchased 10 number of 3456\n"
     ]
    }
   ],
   "source": [
    "age = 26\n",
    "quantity = 10\n",
    "itemno = 3456\n",
    "txt = \"My name is Suresh, and I am {} years old and I purchased {} number of {}\"\n",
    "print (txt.format(age, quantity, itemno))"
   ]
  },
  {
   "cell_type": "markdown",
   "metadata": {},
   "source": [
    "##### Escape Character\n",
    "\n",
    "#### Common escape characters \n",
    "\n",
    "```\n",
    "\\'\n",
    "\\\"\n",
    "\\n\n",
    "\\t\n",
    "\\b\n",
    "\n",
    "```"
   ]
  },
  {
   "cell_type": "code",
   "execution_count": 48,
   "metadata": {},
   "outputs": [
    {
     "data": {
      "text/plain": [
       "'And then he said \"Hello World\"'"
      ]
     },
     "execution_count": 48,
     "metadata": {},
     "output_type": "execute_result"
    }
   ],
   "source": [
    "st = \"And then he said \\\"Hello World\\\"\"\n",
    "st"
   ]
  },
  {
   "cell_type": "code",
   "execution_count": 49,
   "metadata": {},
   "outputs": [
    {
     "name": "stdout",
     "output_type": "stream",
     "text": [
      "And then he said\n",
      " \"Hello World\"\n"
     ]
    }
   ],
   "source": [
    "st = \"And then he said\\n \\\"Hello World\\\"\"\n",
    "print (st)"
   ]
  },
  {
   "cell_type": "code",
   "execution_count": 50,
   "metadata": {},
   "outputs": [
    {
     "name": "stdout",
     "output_type": "stream",
     "text": [
      "And then he said\t \"Hello World\"\n"
     ]
    }
   ],
   "source": [
    "st = \"And then he said\\t \\\"Hello World\\\"\"\n",
    "print (st)"
   ]
  },
  {
   "cell_type": "code",
   "execution_count": 51,
   "metadata": {},
   "outputs": [
    {
     "name": "stdout",
     "output_type": "stream",
     "text": [
      "And then he said\b \"Hello World\"\n"
     ]
    }
   ],
   "source": [
    "st = \"And then he said\\b \\\"Hello World\\\"\"\n",
    "print (st)"
   ]
  },
  {
   "cell_type": "markdown",
   "metadata": {},
   "source": [
    "##### Treasure hunt game example"
   ]
  },
  {
   "cell_type": "markdown",
   "metadata": {},
   "source": [
    "##### Tresure Hunt\n",
    "\n",
    "X -- is my treasure \n",
    "1. If X index is found -- print he is the winner \n",
    "2. if the guess is index of E - He is dead \n",
    "3. if he guess other index(except E and X) # select other index \n",
    "\n"
   ]
  },
  {
   "cell_type": "code",
   "execution_count": 53,
   "metadata": {},
   "outputs": [
    {
     "name": "stdout",
     "output_type": "stream",
     "text": [
      "Enter the number:::::5\n",
      "Good try again. One clue is move towards left to win the game\n"
     ]
    }
   ],
   "source": [
    "guess=int(input(\"Enter the number:::::\"))\n",
    "game_zone = ['','','','X','','','','E','','','','','','']\n",
    "\n",
    "success='X'\n",
    "failure='E'\n",
    "\n",
    "while(guess >= 0):\n",
    "    if(guess <= len(game_zone)-1):\n",
    "        if (guess == game_zone.index(success)):\n",
    "            print(\"Congrats you are the winner\")\n",
    "            break\n",
    "        elif(guess == game_zone.index(failure)):\n",
    "            print(\"Sorry you lose!!! Better luck next time\")\n",
    "            break\n",
    "        elif(guess < game_zone.index(success)):\n",
    "            print(\"Good try again. One clue is move towards right to win the game\")\n",
    "            break\n",
    "        elif((guess > game_zone.index(success))):\n",
    "            print(\"Good try again. One clue is move towards left to win the game\")\n",
    "            break\n",
    "    else:\n",
    "        print(\"Better try from {f} to {l}\".format(f=0,l=len(game_zone)-1))\n",
    "        break\n",
    "             "
   ]
  },
  {
   "cell_type": "markdown",
   "metadata": {},
   "source": [
    "##### Wordcount\n",
    "\n",
    "Given a sentence, find how many times each word occured\n",
    "\n",
    "1. Convert everything to lowercase\n",
    "1. Remove extra character (.)\n",
    "1. Chunk into individual words\n",
    "1. Read word by word and find the count, and store\n",
    "1. Print"
   ]
  },
  {
   "cell_type": "code",
   "execution_count": 54,
   "metadata": {},
   "outputs": [],
   "source": [
    "sentence = \"\"\"Hello everybody I am learning Data Science. \n",
    "    I am learning about how to crunch large amount of data.\n",
    "    This helps us understand the past and predict the future\"\"\"\n",
    "\n",
    "# {'hello':1, 'data':2, 'i':2,.....}"
   ]
  },
  {
   "cell_type": "code",
   "execution_count": 55,
   "metadata": {},
   "outputs": [
    {
     "data": {
      "text/plain": [
       "{'understand': 1,\n",
       " 'and': 1,\n",
       " 'this': 1,\n",
       " 'predict': 1,\n",
       " 'past': 1,\n",
       " 'science': 1,\n",
       " 'us': 1,\n",
       " 'crunch': 1,\n",
       " 'about': 1,\n",
       " 'everybody': 1,\n",
       " 'helps': 1,\n",
       " 'data': 2,\n",
       " 'how': 1,\n",
       " 'future': 1,\n",
       " 'amount': 1,\n",
       " 'to': 1,\n",
       " 'of': 1,\n",
       " 'am': 2,\n",
       " 'i': 2,\n",
       " 'the': 2,\n",
       " 'hello': 1,\n",
       " 'learning': 2,\n",
       " 'large': 1}"
      ]
     },
     "execution_count": 55,
     "metadata": {},
     "output_type": "execute_result"
    }
   ],
   "source": [
    "sentence = \"\"\"Hello everybody I am learning Data Science. \n",
    "    I am learning about how to crunch large amount of data.\n",
    "    This helps us understand the past and predict the future\"\"\"\n",
    "\n",
    "sentence = sentence.lower()\n",
    "sentence = sentence.replace('.','')\n",
    "sentence = sentence.replace('\\n','')\n",
    "sentence_list = sentence.split(' ')\n",
    "sentence_set = set(sentence_list)\n",
    "\n",
    "word_count = dict()\n",
    "\n",
    "for word in sentence_set:\n",
    "    if word == '':\n",
    "        continue\n",
    "    word_count[word] = sentence_list.count(word)\n",
    "word_count"
   ]
  },
  {
   "cell_type": "markdown",
   "metadata": {},
   "source": [
    "##### Count Elements in a List without using inbuilt function\n",
    "\n",
    "Given a list of integers, and a number num, find how many times num is present in integers"
   ]
  },
  {
   "cell_type": "code",
   "execution_count": 56,
   "metadata": {},
   "outputs": [
    {
     "name": "stdout",
     "output_type": "stream",
     "text": [
      "Enter number to be searched: 5\n",
      "number of times number 4\n"
     ]
    }
   ],
   "source": [
    "lst = [3,4,6,5,7,5,4,5,6,7,5,4]\n",
    "\n",
    "num = int(input('Enter number to be searched: '))  \n",
    "\n",
    "counter = 0\n",
    "for item in lst:\n",
    "    if num == item:\n",
    "        counter += 1\n",
    "print (\"number of times number\",counter)"
   ]
  }
 ],
 "metadata": {
  "kernelspec": {
   "display_name": "Python 3 (ipykernel)",
   "language": "python",
   "name": "python3"
  },
  "language_info": {
   "codemirror_mode": {
    "name": "ipython",
    "version": 3
   },
   "file_extension": ".py",
   "mimetype": "text/x-python",
   "name": "python",
   "nbconvert_exporter": "python",
   "pygments_lexer": "ipython3",
   "version": "3.9.7"
  }
 },
 "nbformat": 4,
 "nbformat_minor": 2
}
